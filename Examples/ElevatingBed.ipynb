{
 "cells": [
  {
   "cell_type": "code",
   "execution_count": 1,
   "metadata": {},
   "outputs": [],
   "source": [
    "from pyFrame import Frame\n",
    "import ipywidgets as widgets"
   ]
  },
  {
   "cell_type": "code",
   "execution_count": 2,
   "metadata": {},
   "outputs": [],
   "source": [
    "BedFrame = Frame.Frame()"
   ]
  },
  {
   "cell_type": "code",
   "execution_count": 3,
   "metadata": {},
   "outputs": [],
   "source": [
    "#addding nodes to Frame\n",
    "BedFrame.addNode('1',0,0,0)\n",
    "BedFrame.addNode('2',2.6,0,0)\n",
    "BedFrame.addNode('3',0,2.2,0)\n",
    "BedFrame.addNode('4',2.6,2.2,0)\n",
    "BedFrame.addNode('5',0,0,2.8)\n",
    "BedFrame.addNode('6',2.6,0,2.8)\n",
    "BedFrame.addNode('7',0,2.2,2.8)\n",
    "BedFrame.addNode('8',2.6,2.2,2.8)\n"
   ]
  },
  {
   "cell_type": "code",
   "execution_count": 4,
   "metadata": {},
   "outputs": [],
   "source": [
    "#spruce wood\n",
    "E = 8*(10**9) #Pa\n",
    "G = 0.577*E #Pa\n",
    "J = 0\n",
    "a = 0.1 #m\n",
    "b = 0.1 #m\n",
    "Iz = a*(b**3)/12\n",
    "Iy = (b**3)*a/12\n",
    "A = a*b"
   ]
  },
  {
   "cell_type": "code",
   "execution_count": 5,
   "metadata": {
    "scrolled": true
   },
   "outputs": [],
   "source": [
    "#add Members \n",
    "BedFrame.addMember('col1', '1','5', E, G, J, Iy, Iz, A)\n",
    "BedFrame.addMember('col2', '2','6', E, G, J, Iy, Iz, A)\n",
    "BedFrame.addMember('col3', '3','7', E, G, J, Iy, Iz, A)\n",
    "BedFrame.addMember('col4', '4','8', E, G, J, Iy, Iz, A)\n",
    "\n",
    "BedFrame.addMember('Beam1', '5','7', E, G, J, Iy, Iz, A)\n",
    "BedFrame.addMember('Beam2', '5','6', E, G, J, Iy, Iz, A)\n",
    "BedFrame.addMember('Beam3', '7','8', E, G, J, Iy, Iz, A)\n",
    "BedFrame.addMember('Beam4', '6','8', E, G, J, Iy, Iz, A)"
   ]
  },
  {
   "cell_type": "code",
   "execution_count": 6,
   "metadata": {},
   "outputs": [],
   "source": [
    "#create supports \n",
    "BedFrame.makeSupport('1', Ux=0,Uy=0,Uz=0,Rx=0,Ry=0,Rz=0)\n",
    "BedFrame.makeSupport('2', Ux=0,Uy=0,Uz=0,Rx=0,Ry=0,Rz=0)\n",
    "BedFrame.makeSupport('3', Ux=0,Uy=0,Uz=0,Rx=0,Ry=0,Rz=0)\n",
    "BedFrame.makeSupport('4', Ux=0,Uy=0,Uz=0,Rx=0,Ry=0,Rz=0)\n",
    "BedFrame.makeSupport('5', Rx=0,Ry=0,Rz=0)\n",
    "BedFrame.makeSupport('6', Rx=0,Ry=0,Rz=0)\n",
    "BedFrame.makeSupport('7', Rx=0,Ry=0,Rz=0)\n",
    "BedFrame.makeSupport('8', Rx=0,Ry=0,Rz=0)"
   ]
  },
  {
   "cell_type": "code",
   "execution_count": 7,
   "metadata": {
    "scrolled": true
   },
   "outputs": [],
   "source": [
    "#set nodal loads\n",
    "BedFrame.addNodeLoad('5', Fy=1000,Fx=1000)"
   ]
  },
  {
   "cell_type": "code",
   "execution_count": 8,
   "metadata": {
    "scrolled": false
   },
   "outputs": [
    {
     "data": {
      "text/plain": [
       "array([[0.02744, 0.02744, 0.02744, 0.02744, 0.02744, 0.02744, 0.02744,\n",
       "        0.02744, 0.02744, 0.02744, 0.02744, 0.02744],\n",
       "       [0.02744, 0.02744, 0.02744, 0.02744, 0.02744, 0.02744, 0.02744,\n",
       "        0.02744, 0.02744, 0.02744, 0.02744, 0.02744],\n",
       "       [0.     , 0.     , 0.     , 0.     , 0.     , 0.     , 0.     ,\n",
       "        0.     , 0.     , 0.     , 0.     , 0.     ],\n",
       "       [0.02744, 0.02744, 0.02744, 0.02744, 0.02744, 0.02744, 0.02744,\n",
       "        0.02744, 0.02744, 0.02744, 0.02744, 0.02744],\n",
       "       [0.02744, 0.02744, 0.02744, 0.02744, 0.02744, 0.02744, 0.02744,\n",
       "        0.02744, 0.02744, 0.02744, 0.02744, 0.02744],\n",
       "       [0.     , 0.     , 0.     , 0.     , 0.     , 0.     , 0.     ,\n",
       "        0.     , 0.     , 0.     , 0.     , 0.     ],\n",
       "       [0.02744, 0.02744, 0.02744, 0.02744, 0.02744, 0.02744, 0.02744,\n",
       "        0.02744, 0.02744, 0.02744, 0.02744, 0.02744],\n",
       "       [0.02744, 0.02744, 0.02744, 0.02744, 0.02744, 0.02744, 0.02744,\n",
       "        0.02744, 0.02744, 0.02744, 0.02744, 0.02744],\n",
       "       [0.     , 0.     , 0.     , 0.     , 0.     , 0.     , 0.     ,\n",
       "        0.     , 0.     , 0.     , 0.     , 0.     ],\n",
       "       [0.02744, 0.02744, 0.02744, 0.02744, 0.02744, 0.02744, 0.02744,\n",
       "        0.02744, 0.02744, 0.02744, 0.02744, 0.02744],\n",
       "       [0.02744, 0.02744, 0.02744, 0.02744, 0.02744, 0.02744, 0.02744,\n",
       "        0.02744, 0.02744, 0.02744, 0.02744, 0.02744],\n",
       "       [0.     , 0.     , 0.     , 0.     , 0.     , 0.     , 0.     ,\n",
       "        0.     , 0.     , 0.     , 0.     , 0.     ]])"
      ]
     },
     "execution_count": 8,
     "metadata": {},
     "output_type": "execute_result"
    }
   ],
   "source": [
    "BedFrame.analyze()"
   ]
  },
  {
   "cell_type": "code",
   "execution_count": 9,
   "metadata": {},
   "outputs": [
    {
     "data": {
      "application/vnd.jupyter.widget-view+json": {
       "model_id": "01cd7a17562243e19a6666008e1e629e",
       "version_major": 2,
       "version_minor": 0
      },
      "text/plain": [
       "interactive(children=(FloatSlider(value=0.01, description='label_offset', max=0.1, min=0.01, step=0.01), Float…"
      ]
     },
     "metadata": {},
     "output_type": "display_data"
    },
    {
     "data": {
      "text/plain": [
       "<function ipywidgets.widgets.interaction._InteractFactory.__call__.<locals>.<lambda>(*args, **kwargs)>"
      ]
     },
     "execution_count": 9,
     "metadata": {},
     "output_type": "execute_result"
    }
   ],
   "source": [
    "#BedFrame.plot()\n",
    "widgets.interact(BedFrame.plot, \n",
    "                 label_offset=(0.01, 0.1, 0.01), \n",
    "                 xMargin=(0.25, 3, 0.25),\n",
    "                 yMargin=(0.25, 3, 0.25),\n",
    "                 zMargin=(0.5, 3, 0.25),\n",
    "                 elevation=(0,360,10),\n",
    "                 rotation=(0,360,10),\n",
    "                 xFac=(1,20,1))"
   ]
  },
  {
   "cell_type": "code",
   "execution_count": 10,
   "metadata": {},
   "outputs": [],
   "source": [
    "#BedFrame.reset()"
   ]
  }
 ],
 "metadata": {
  "kernelspec": {
   "display_name": "Python 3",
   "language": "python",
   "name": "python3"
  },
  "language_info": {
   "codemirror_mode": {
    "name": "ipython",
    "version": 3
   },
   "file_extension": ".py",
   "mimetype": "text/x-python",
   "name": "python",
   "nbconvert_exporter": "python",
   "pygments_lexer": "ipython3",
   "version": "3.8.5"
  }
 },
 "nbformat": 4,
 "nbformat_minor": 4
}
